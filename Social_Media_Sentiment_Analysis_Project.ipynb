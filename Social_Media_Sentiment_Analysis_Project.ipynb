{
  "cells": [
    {
      "cell_type": "markdown",
      "metadata": {
        "id": "g9ytOHZFNvoI"
      },
      "source": [
        "# Social Media Sentiment Analysis Project\n",
        "-> Problem Statement (Final Step After Conclusion - Rehab Responsibility)\n",
        "\n",
        "---------------"
      ]
    },
    {
      "cell_type": "markdown",
      "metadata": {
        "id": "YnZtNYoiOH7Z"
      },
      "source": [
        "## Step 1: Reading and Understanding the data.\n",
        "Assigned to: Akayiz/Youstina"
      ]
    },
    {
      "cell_type": "code",
      "execution_count": 2,
      "metadata": {
        "id": "62MpfcPXN--y"
      },
      "outputs": [],
      "source": [
        "import pandas as pd"
      ]
    },
    {
      "cell_type": "code",
      "execution_count": 3,
      "metadata": {},
      "outputs": [],
      "source": [
        "df = pd.read_csv('sentimentdataset.csv')"
      ]
    },
    {
      "cell_type": "code",
      "execution_count": 4,
      "metadata": {},
      "outputs": [
        {
          "data": {
            "text/plain": [
              "(732, 14)"
            ]
          },
          "execution_count": 4,
          "metadata": {},
          "output_type": "execute_result"
        }
      ],
      "source": [
        "df.shape"
      ]
    },
    {
      "cell_type": "code",
      "execution_count": 5,
      "metadata": {},
      "outputs": [
        {
          "data": {
            "text/html": [
              "<div>\n",
              "<style scoped>\n",
              "    .dataframe tbody tr th:only-of-type {\n",
              "        vertical-align: middle;\n",
              "    }\n",
              "\n",
              "    .dataframe tbody tr th {\n",
              "        vertical-align: top;\n",
              "    }\n",
              "\n",
              "    .dataframe thead th {\n",
              "        text-align: right;\n",
              "    }\n",
              "</style>\n",
              "<table border=\"1\" class=\"dataframe\">\n",
              "  <thead>\n",
              "    <tr style=\"text-align: right;\">\n",
              "      <th></th>\n",
              "      <th>ID</th>\n",
              "      <th>Text</th>\n",
              "      <th>Sentiment (Label)</th>\n",
              "      <th>Timestamp</th>\n",
              "      <th>User</th>\n",
              "      <th>Source</th>\n",
              "      <th>Topic</th>\n",
              "      <th>Retweets</th>\n",
              "      <th>Likes</th>\n",
              "      <th>Country</th>\n",
              "      <th>Year</th>\n",
              "      <th>Month</th>\n",
              "      <th>Day</th>\n",
              "      <th>Hour</th>\n",
              "    </tr>\n",
              "  </thead>\n",
              "  <tbody>\n",
              "    <tr>\n",
              "      <th>0</th>\n",
              "      <td>0</td>\n",
              "      <td>Enjoying a beautiful day at the park!        ...</td>\n",
              "      <td>Positive</td>\n",
              "      <td>1/15/2023 12:30</td>\n",
              "      <td>User123</td>\n",
              "      <td>Twitter</td>\n",
              "      <td>#Nature #Park</td>\n",
              "      <td>15</td>\n",
              "      <td>30</td>\n",
              "      <td>USA</td>\n",
              "      <td>2023</td>\n",
              "      <td>1</td>\n",
              "      <td>15</td>\n",
              "      <td>12</td>\n",
              "    </tr>\n",
              "    <tr>\n",
              "      <th>1</th>\n",
              "      <td>1</td>\n",
              "      <td>Traffic was terrible this morning.           ...</td>\n",
              "      <td>Negative</td>\n",
              "      <td>1/15/2023 8:45</td>\n",
              "      <td>CommuterX</td>\n",
              "      <td>Twitter</td>\n",
              "      <td>#Traffic #Morning</td>\n",
              "      <td>5</td>\n",
              "      <td>10</td>\n",
              "      <td>Canada</td>\n",
              "      <td>2023</td>\n",
              "      <td>1</td>\n",
              "      <td>15</td>\n",
              "      <td>8</td>\n",
              "    </tr>\n",
              "    <tr>\n",
              "      <th>2</th>\n",
              "      <td>2</td>\n",
              "      <td>Just finished an amazing workout! 💪          ...</td>\n",
              "      <td>Positive</td>\n",
              "      <td>1/15/2023 15:45</td>\n",
              "      <td>FitnessFan</td>\n",
              "      <td>Instagram</td>\n",
              "      <td>#Fitness #Workout</td>\n",
              "      <td>20</td>\n",
              "      <td>40</td>\n",
              "      <td>USA</td>\n",
              "      <td>2023</td>\n",
              "      <td>1</td>\n",
              "      <td>15</td>\n",
              "      <td>15</td>\n",
              "    </tr>\n",
              "    <tr>\n",
              "      <th>3</th>\n",
              "      <td>3</td>\n",
              "      <td>Excited about the upcoming weekend getaway!  ...</td>\n",
              "      <td>Positive</td>\n",
              "      <td>1/15/2023 18:20</td>\n",
              "      <td>AdventureX</td>\n",
              "      <td>Facebook</td>\n",
              "      <td>#Travel #Adventure</td>\n",
              "      <td>8</td>\n",
              "      <td>15</td>\n",
              "      <td>UK</td>\n",
              "      <td>2023</td>\n",
              "      <td>1</td>\n",
              "      <td>15</td>\n",
              "      <td>18</td>\n",
              "    </tr>\n",
              "    <tr>\n",
              "      <th>4</th>\n",
              "      <td>4</td>\n",
              "      <td>Trying out a new recipe for dinner tonight.  ...</td>\n",
              "      <td>Neutral</td>\n",
              "      <td>1/15/2023 19:55</td>\n",
              "      <td>ChefCook</td>\n",
              "      <td>Instagram</td>\n",
              "      <td>#Cooking #Food</td>\n",
              "      <td>12</td>\n",
              "      <td>25</td>\n",
              "      <td>Australia</td>\n",
              "      <td>2023</td>\n",
              "      <td>1</td>\n",
              "      <td>15</td>\n",
              "      <td>19</td>\n",
              "    </tr>\n",
              "  </tbody>\n",
              "</table>\n",
              "</div>"
            ],
            "text/plain": [
              "   ID                                               Text Sentiment (Label)  \\\n",
              "0   0   Enjoying a beautiful day at the park!        ...        Positive     \n",
              "1   1   Traffic was terrible this morning.           ...        Negative     \n",
              "2   2   Just finished an amazing workout! 💪          ...        Positive     \n",
              "3   3   Excited about the upcoming weekend getaway!  ...        Positive     \n",
              "4   4   Trying out a new recipe for dinner tonight.  ...        Neutral      \n",
              "\n",
              "         Timestamp            User       Source  \\\n",
              "0  1/15/2023 12:30   User123          Twitter     \n",
              "1   1/15/2023 8:45   CommuterX        Twitter     \n",
              "2  1/15/2023 15:45   FitnessFan      Instagram    \n",
              "3  1/15/2023 18:20   AdventureX       Facebook    \n",
              "4  1/15/2023 19:55   ChefCook        Instagram    \n",
              "\n",
              "                                        Topic  Retweets  Likes       Country  \\\n",
              "0   #Nature #Park                                    15     30     USA         \n",
              "1   #Traffic #Morning                                 5     10     Canada      \n",
              "2   #Fitness #Workout                                20     40   USA           \n",
              "3   #Travel #Adventure                                8     15     UK          \n",
              "4   #Cooking #Food                                   12     25    Australia    \n",
              "\n",
              "   Year  Month  Day  Hour  \n",
              "0  2023      1   15    12  \n",
              "1  2023      1   15     8  \n",
              "2  2023      1   15    15  \n",
              "3  2023      1   15    18  \n",
              "4  2023      1   15    19  "
            ]
          },
          "execution_count": 5,
          "metadata": {},
          "output_type": "execute_result"
        }
      ],
      "source": [
        "df.head()"
      ]
    },
    {
      "cell_type": "code",
      "execution_count": 6,
      "metadata": {},
      "outputs": [
        {
          "data": {
            "text/plain": [
              "['ID',\n",
              " 'Text',\n",
              " 'Sentiment (Label)',\n",
              " 'Timestamp',\n",
              " 'User',\n",
              " 'Source',\n",
              " 'Topic',\n",
              " 'Retweets',\n",
              " 'Likes',\n",
              " 'Country',\n",
              " 'Year',\n",
              " 'Month',\n",
              " 'Day',\n",
              " 'Hour']"
            ]
          },
          "execution_count": 6,
          "metadata": {},
          "output_type": "execute_result"
        }
      ],
      "source": [
        "list(df.columns)"
      ]
    },
    {
      "cell_type": "markdown",
      "metadata": {},
      "source": [
        "## The Data's Columns' Description:\n",
        "- <b>ID:</b> An integer that represents a unique identifier for each row (0-based)\n",
        "- <b>Text:</b> A string that contains the posted message\n",
        "- <b>Sentiment (Label):</b> Message author's feelings when writing the message\n",
        "- <b>Timestamp:</b> Timestamp when the message was posted (mm/dd/yyyy hh:mm (in 24-hour format))\n",
        "- <b>User:</b> Author's account name\n",
        "- <b>Source:</b> Source website where the author posted the message\n",
        "- <b>Topic:</b>  Topic related to the content in the message (two topics)\n",
        "- <b>Retweets:</b> Number of retweets/reposts on social media platform\n",
        "- <b>Likes:</b> Number of likes on social media platform\n",
        "- <b>Country:</b> Country where the author is located\n",
        "- <b>Year:</b> Year when the message was posted\n",
        "- <b>Month:</b> Month when the message was posted\n",
        "- <b>Day:</b> Day when the message was posted\n",
        "- <b>Hour:</b> The hour (in 24-hour format) in which this message was posted"
      ]
    },
    {
      "cell_type": "code",
      "execution_count": 9,
      "metadata": {},
      "outputs": [
        {
          "name": "stdout",
          "output_type": "stream",
          "text": [
            "<class 'pandas.core.frame.DataFrame'>\n",
            "RangeIndex: 732 entries, 0 to 731\n",
            "Data columns (total 14 columns):\n",
            " #   Column             Non-Null Count  Dtype \n",
            "---  ------             --------------  ----- \n",
            " 0   ID                 732 non-null    int64 \n",
            " 1   Text               732 non-null    object\n",
            " 2   Sentiment (Label)  732 non-null    object\n",
            " 3   Timestamp          732 non-null    object\n",
            " 4   User               732 non-null    object\n",
            " 5   Source             732 non-null    object\n",
            " 6   Topic              732 non-null    object\n",
            " 7   Retweets           732 non-null    int64 \n",
            " 8   Likes              732 non-null    int64 \n",
            " 9   Country            732 non-null    object\n",
            " 10  Year               732 non-null    int64 \n",
            " 11  Month              732 non-null    int64 \n",
            " 12  Day                732 non-null    int64 \n",
            " 13  Hour               732 non-null    int64 \n",
            "dtypes: int64(7), object(7)\n",
            "memory usage: 80.2+ KB\n"
          ]
        }
      ],
      "source": [
        "df.info()"
      ]
    },
    {
      "cell_type": "markdown",
      "metadata": {},
      "source": [
        "#### Dropping unnecessary columns\n",
        "\n",
        "- **ID:** Redundant since pandas generates an equivalent row\n",
        "- **Timestamp:** All the info inside it is available in columns (Year, Month, Day, Hour) except the minutes, which we believe is not useful since no trends last for less than an hour\n",
        "- **User:** Isn't related to the sentiment"
      ]
    },
    {
      "cell_type": "code",
      "execution_count": 10,
      "metadata": {},
      "outputs": [],
      "source": [
        "df.drop(['ID', 'Timestamp', 'User'], axis=1, inplace=True)"
      ]
    },
    {
      "cell_type": "markdown",
      "metadata": {},
      "source": [
        "#### Checking missing/null values"
      ]
    },
    {
      "cell_type": "code",
      "execution_count": 8,
      "metadata": {},
      "outputs": [
        {
          "data": {
            "text/plain": [
              "ID                   0\n",
              "Text                 0\n",
              "Sentiment (Label)    0\n",
              "Timestamp            0\n",
              "User                 0\n",
              "Source               0\n",
              "Topic                0\n",
              "Retweets             0\n",
              "Likes                0\n",
              "Country              0\n",
              "Year                 0\n",
              "Month                0\n",
              "Day                  0\n",
              "Hour                 0\n",
              "dtype: int64"
            ]
          },
          "execution_count": 8,
          "metadata": {},
          "output_type": "execute_result"
        }
      ],
      "source": [
        "df.isna().sum().sort_values(ascending = False)"
      ]
    },
    {
      "cell_type": "markdown",
      "metadata": {},
      "source": [
        "### Based on the above; we can deduce that we have no null values in our data"
      ]
    },
    {
      "cell_type": "markdown",
      "metadata": {},
      "source": [
        "***************************************************************\n",
        "#### Description of numeric data"
      ]
    },
    {
      "cell_type": "code",
      "execution_count": 14,
      "metadata": {},
      "outputs": [
        {
          "data": {
            "text/html": [
              "<div>\n",
              "<style scoped>\n",
              "    .dataframe tbody tr th:only-of-type {\n",
              "        vertical-align: middle;\n",
              "    }\n",
              "\n",
              "    .dataframe tbody tr th {\n",
              "        vertical-align: top;\n",
              "    }\n",
              "\n",
              "    .dataframe thead th {\n",
              "        text-align: right;\n",
              "    }\n",
              "</style>\n",
              "<table border=\"1\" class=\"dataframe\">\n",
              "  <thead>\n",
              "    <tr style=\"text-align: right;\">\n",
              "      <th></th>\n",
              "      <th>Retweets</th>\n",
              "      <th>Likes</th>\n",
              "      <th>Year</th>\n",
              "      <th>Month</th>\n",
              "      <th>Day</th>\n",
              "      <th>Hour</th>\n",
              "    </tr>\n",
              "  </thead>\n",
              "  <tbody>\n",
              "    <tr>\n",
              "      <th>count</th>\n",
              "      <td>732.000000</td>\n",
              "      <td>732.000000</td>\n",
              "      <td>732.000000</td>\n",
              "      <td>732.000000</td>\n",
              "      <td>732.000000</td>\n",
              "      <td>732.000000</td>\n",
              "    </tr>\n",
              "    <tr>\n",
              "      <th>mean</th>\n",
              "      <td>21.508197</td>\n",
              "      <td>42.901639</td>\n",
              "      <td>2020.471311</td>\n",
              "      <td>6.122951</td>\n",
              "      <td>15.497268</td>\n",
              "      <td>15.521858</td>\n",
              "    </tr>\n",
              "    <tr>\n",
              "      <th>std</th>\n",
              "      <td>7.061286</td>\n",
              "      <td>14.089848</td>\n",
              "      <td>2.802285</td>\n",
              "      <td>3.411763</td>\n",
              "      <td>8.474553</td>\n",
              "      <td>4.113414</td>\n",
              "    </tr>\n",
              "    <tr>\n",
              "      <th>min</th>\n",
              "      <td>5.000000</td>\n",
              "      <td>10.000000</td>\n",
              "      <td>2010.000000</td>\n",
              "      <td>1.000000</td>\n",
              "      <td>1.000000</td>\n",
              "      <td>0.000000</td>\n",
              "    </tr>\n",
              "    <tr>\n",
              "      <th>25%</th>\n",
              "      <td>17.750000</td>\n",
              "      <td>34.750000</td>\n",
              "      <td>2019.000000</td>\n",
              "      <td>3.000000</td>\n",
              "      <td>9.000000</td>\n",
              "      <td>13.000000</td>\n",
              "    </tr>\n",
              "    <tr>\n",
              "      <th>50%</th>\n",
              "      <td>22.000000</td>\n",
              "      <td>43.000000</td>\n",
              "      <td>2021.000000</td>\n",
              "      <td>6.000000</td>\n",
              "      <td>15.000000</td>\n",
              "      <td>16.000000</td>\n",
              "    </tr>\n",
              "    <tr>\n",
              "      <th>75%</th>\n",
              "      <td>25.000000</td>\n",
              "      <td>50.000000</td>\n",
              "      <td>2023.000000</td>\n",
              "      <td>9.000000</td>\n",
              "      <td>22.000000</td>\n",
              "      <td>19.000000</td>\n",
              "    </tr>\n",
              "    <tr>\n",
              "      <th>max</th>\n",
              "      <td>40.000000</td>\n",
              "      <td>80.000000</td>\n",
              "      <td>2023.000000</td>\n",
              "      <td>12.000000</td>\n",
              "      <td>31.000000</td>\n",
              "      <td>23.000000</td>\n",
              "    </tr>\n",
              "  </tbody>\n",
              "</table>\n",
              "</div>"
            ],
            "text/plain": [
              "         Retweets       Likes         Year       Month         Day        Hour\n",
              "count  732.000000  732.000000   732.000000  732.000000  732.000000  732.000000\n",
              "mean    21.508197   42.901639  2020.471311    6.122951   15.497268   15.521858\n",
              "std      7.061286   14.089848     2.802285    3.411763    8.474553    4.113414\n",
              "min      5.000000   10.000000  2010.000000    1.000000    1.000000    0.000000\n",
              "25%     17.750000   34.750000  2019.000000    3.000000    9.000000   13.000000\n",
              "50%     22.000000   43.000000  2021.000000    6.000000   15.000000   16.000000\n",
              "75%     25.000000   50.000000  2023.000000    9.000000   22.000000   19.000000\n",
              "max     40.000000   80.000000  2023.000000   12.000000   31.000000   23.000000"
            ]
          },
          "execution_count": 14,
          "metadata": {},
          "output_type": "execute_result"
        }
      ],
      "source": [
        "df.describe()"
      ]
    },
    {
      "cell_type": "markdown",
      "metadata": {},
      "source": [
        "### Checking some columns and noting issues in them"
      ]
    },
    {
      "cell_type": "markdown",
      "metadata": {},
      "source": [
        "``Text Column:``"
      ]
    },
    {
      "cell_type": "code",
      "execution_count": 16,
      "metadata": {},
      "outputs": [
        {
          "data": {
            "text/plain": [
              "0     Enjoying a beautiful day at the park!        ...\n",
              "1     Traffic was terrible this morning.           ...\n",
              "2     Just finished an amazing workout! 💪          ...\n",
              "3     Excited about the upcoming weekend getaway!  ...\n",
              "4     Trying out a new recipe for dinner tonight.  ...\n",
              "Name: Text, dtype: object"
            ]
          },
          "execution_count": 16,
          "metadata": {},
          "output_type": "execute_result"
        }
      ],
      "source": [
        "df['Text'].head()"
      ]
    },
    {
      "cell_type": "markdown",
      "metadata": {},
      "source": [
        "#### Text column doesn't contain any irrelevent data"
      ]
    },
    {
      "cell_type": "markdown",
      "metadata": {},
      "source": [
        "``Sentiment (Label):``"
      ]
    },
    {
      "cell_type": "code",
      "execution_count": 21,
      "metadata": {},
      "outputs": [
        {
          "data": {
            "text/plain": [
              "Sentiment (Label)\n",
              "Positive           44\n",
              "Joy                42\n",
              "Excitement         32\n",
              "Neutral            14\n",
              "Contentment        14\n",
              "                   ..\n",
              "Adrenaline          1\n",
              "Harmony             1\n",
              "ArtisticBurst       1\n",
              "Radiance            1\n",
              "Elegance            1\n",
              "Name: count, Length: 279, dtype: int64"
            ]
          },
          "execution_count": 21,
          "metadata": {},
          "output_type": "execute_result"
        }
      ],
      "source": [
        "df['Sentiment (Label)'].value_counts()"
      ]
    },
    {
      "cell_type": "markdown",
      "metadata": {},
      "source": [
        "#### Need to convert 279 different labels into one of three: positive, negative or neutral"
      ]
    },
    {
      "cell_type": "markdown",
      "metadata": {},
      "source": [
        "``Source:``"
      ]
    },
    {
      "cell_type": "code",
      "execution_count": 23,
      "metadata": {},
      "outputs": [
        {
          "data": {
            "text/plain": [
              "Source\n",
              "Instagram     258\n",
              "Facebook      231\n",
              "Twitter       128\n",
              "Twitter       115\n",
              "Name: count, dtype: int64"
            ]
          },
          "execution_count": 23,
          "metadata": {},
          "output_type": "execute_result"
        }
      ],
      "source": [
        "df['Source'].value_counts()"
      ]
    },
    {
      "cell_type": "markdown",
      "metadata": {},
      "source": [
        "#### Need to merge the two \"Twitter\"'s together (Note: 1 of the twitter's has a single space after it and the other has 2 spaces after it)"
      ]
    },
    {
      "cell_type": "markdown",
      "metadata": {},
      "source": [
        "``Topic:``"
      ]
    },
    {
      "cell_type": "code",
      "execution_count": 24,
      "metadata": {},
      "outputs": [
        {
          "data": {
            "text/plain": [
              "Topic\n",
              "#Compassionate #TearsOfEmpathy                  3\n",
              "#Proud #ScalingPeaks                            3\n",
              "#Hopeful #SeedsOfOptimism                       3\n",
              "#Playful #CarnivalEscapade                      3\n",
              "#Contentment #TranquilWaters                    2\n",
              "                                               ..\n",
              "#Acceptance #BeautifulChaos                     1\n",
              "#Determination #ExtraordinaryPath               1\n",
              "#Serenity #RaindropMelody                       1\n",
              "#Curiosity #SeekerOfKnowledge                   1\n",
              "#VirtualEntertainment #HighSchoolPositivity     1\n",
              "Name: count, Length: 697, dtype: int64"
            ]
          },
          "execution_count": 24,
          "metadata": {},
          "output_type": "execute_result"
        }
      ],
      "source": [
        "df['Topic'].value_counts()"
      ]
    },
    {
      "cell_type": "code",
      "execution_count": 25,
      "metadata": {},
      "outputs": [
        {
          "data": {
            "text/plain": [
              "0     #Nature #Park                            \n",
              "1     #Traffic #Morning                        \n",
              "2     #Fitness #Workout                        \n",
              "3     #Travel #Adventure                       \n",
              "4     #Cooking #Food                           \n",
              "Name: Topic, dtype: object"
            ]
          },
          "execution_count": 25,
          "metadata": {},
          "output_type": "execute_result"
        }
      ],
      "source": [
        "df['Topic'].head()"
      ]
    },
    {
      "cell_type": "markdown",
      "metadata": {},
      "source": [
        "#### Topic column needs to be split into two, as for example the combo of #Compassionate #TearsOfEmpathy occured 3 times, but that doesn't mean that #Compassionate occured 3 times only "
      ]
    },
    {
      "cell_type": "markdown",
      "metadata": {},
      "source": [
        "#### "
      ]
    },
    {
      "cell_type": "markdown",
      "metadata": {},
      "source": [
        "``Retweets:``"
      ]
    },
    {
      "cell_type": "code",
      "execution_count": 27,
      "metadata": {},
      "outputs": [
        {
          "data": {
            "text/plain": [
              "Retweets\n",
              "40     16\n",
              "35     41\n",
              "30     55\n",
              "28     50\n",
              "27      2\n",
              "26      5\n",
              "25     75\n",
              "24      8\n",
              "23     12\n",
              "22    106\n",
              "21     10\n",
              "20     67\n",
              "19      9\n",
              "18     93\n",
              "17      5\n",
              "16      9\n",
              "15     74\n",
              "14     15\n",
              "13      5\n",
              "12     29\n",
              "11      1\n",
              "10     21\n",
              "9       3\n",
              "8      12\n",
              "7       7\n",
              "5       2\n",
              "Name: count, dtype: int64"
            ]
          },
          "execution_count": 27,
          "metadata": {},
          "output_type": "execute_result"
        }
      ],
      "source": [
        "df['Retweets'].value_counts().sort_index(ascending=False)"
      ]
    },
    {
      "cell_type": "markdown",
      "metadata": {},
      "source": [
        "``Likes:``"
      ]
    },
    {
      "cell_type": "code",
      "execution_count": 28,
      "metadata": {},
      "outputs": [
        {
          "data": {
            "text/plain": [
              "Likes\n",
              "80    16\n",
              "70    41\n",
              "60    55\n",
              "55    50\n",
              "52     2\n",
              "51     1\n",
              "50    75\n",
              "49     1\n",
              "48     9\n",
              "47     1\n",
              "46     6\n",
              "45    94\n",
              "44    10\n",
              "43     6\n",
              "42     9\n",
              "41     2\n",
              "40    62\n",
              "39     6\n",
              "38     7\n",
              "37     3\n",
              "36    16\n",
              "35    77\n",
              "34     4\n",
              "33     1\n",
              "32     8\n",
              "31     1\n",
              "30    73\n",
              "28    15\n",
              "27     1\n",
              "26     5\n",
              "25    23\n",
              "24     6\n",
              "22     1\n",
              "20    21\n",
              "18     3\n",
              "16     2\n",
              "15    17\n",
              "10     2\n",
              "Name: count, dtype: int64"
            ]
          },
          "execution_count": 28,
          "metadata": {},
          "output_type": "execute_result"
        }
      ],
      "source": [
        "df['Likes'].value_counts().sort_index(ascending=False)"
      ]
    },
    {
      "cell_type": "markdown",
      "metadata": {},
      "source": [
        "``Country:``"
      ]
    },
    {
      "cell_type": "code",
      "execution_count": 30,
      "metadata": {},
      "outputs": [
        {
          "data": {
            "text/plain": [
              "Country\n",
              "USA               59\n",
              "USA               55\n",
              "UK                49\n",
              "Canada            44\n",
              "Australia         41\n",
              "                  ..\n",
              "Netherlands        1\n",
              "USA                1\n",
              "Germany            1\n",
              "France             1\n",
              "USA                1\n",
              "Name: count, Length: 115, dtype: int64"
            ]
          },
          "execution_count": 30,
          "metadata": {},
          "output_type": "execute_result"
        }
      ],
      "source": [
        "df['Country'].value_counts()"
      ]
    },
    {
      "cell_type": "markdown",
      "metadata": {},
      "source": [
        "#### Need to combine duplicated country keys into 1 key (Remove multiple USAs and make them 1 USA) (Note: The trick here is also with trailing spaces after each country)"
      ]
    },
    {
      "cell_type": "markdown",
      "metadata": {},
      "source": [
        "``Year:``"
      ]
    },
    {
      "cell_type": "code",
      "execution_count": 31,
      "metadata": {},
      "outputs": [
        {
          "data": {
            "text/plain": [
              "Year\n",
              "2023    289\n",
              "2022     63\n",
              "2021     63\n",
              "2020     69\n",
              "2019     73\n",
              "2018     56\n",
              "2017     43\n",
              "2016     38\n",
              "2015     19\n",
              "2014      4\n",
              "2013      4\n",
              "2012      4\n",
              "2011      4\n",
              "2010      3\n",
              "Name: count, dtype: int64"
            ]
          },
          "execution_count": 31,
          "metadata": {},
          "output_type": "execute_result"
        }
      ],
      "source": [
        "df['Year'].value_counts().sort_index(ascending=False)"
      ]
    },
    {
      "cell_type": "markdown",
      "metadata": {},
      "source": [
        "``Month:``"
      ]
    },
    {
      "cell_type": "code",
      "execution_count": 32,
      "metadata": {},
      "outputs": [
        {
          "data": {
            "text/plain": [
              "Month\n",
              "12    39\n",
              "11    49\n",
              "10    48\n",
              "9     77\n",
              "8     78\n",
              "7     62\n",
              "6     71\n",
              "5     46\n",
              "4     51\n",
              "3     44\n",
              "2     85\n",
              "1     82\n",
              "Name: count, dtype: int64"
            ]
          },
          "execution_count": 32,
          "metadata": {},
          "output_type": "execute_result"
        }
      ],
      "source": [
        "df['Month'].value_counts().sort_index(ascending=False)"
      ]
    },
    {
      "cell_type": "markdown",
      "metadata": {},
      "source": [
        "``Day:``"
      ]
    },
    {
      "cell_type": "code",
      "execution_count": 33,
      "metadata": {},
      "outputs": [
        {
          "data": {
            "text/plain": [
              "Day\n",
              "31     5\n",
              "30    23\n",
              "29    11\n",
              "28    59\n",
              "27    12\n",
              "26    10\n",
              "25    23\n",
              "24    11\n",
              "23    10\n",
              "22    39\n",
              "21    10\n",
              "20    39\n",
              "19    14\n",
              "18    49\n",
              "17    17\n",
              "16    11\n",
              "15    73\n",
              "14    13\n",
              "13     7\n",
              "12    38\n",
              "11    11\n",
              "10    63\n",
              "9      5\n",
              "8     34\n",
              "7     11\n",
              "6      7\n",
              "5     48\n",
              "4      5\n",
              "3     21\n",
              "2     27\n",
              "1     26\n",
              "Name: count, dtype: int64"
            ]
          },
          "execution_count": 33,
          "metadata": {},
          "output_type": "execute_result"
        }
      ],
      "source": [
        "df['Day'].value_counts().sort_index(ascending=False)"
      ]
    },
    {
      "cell_type": "markdown",
      "metadata": {},
      "source": [
        "``Hour:``"
      ]
    },
    {
      "cell_type": "code",
      "execution_count": 34,
      "metadata": {},
      "outputs": [
        {
          "data": {
            "text/plain": [
              "Hour\n",
              "23     7\n",
              "22    33\n",
              "21    41\n",
              "20    50\n",
              "19    75\n",
              "18    65\n",
              "17    48\n",
              "16    69\n",
              "15    47\n",
              "14    94\n",
              "13    30\n",
              "12    38\n",
              "11    37\n",
              "10    30\n",
              "9     28\n",
              "8     23\n",
              "7      7\n",
              "6      4\n",
              "5      1\n",
              "3      3\n",
              "2      1\n",
              "0      1\n",
              "Name: count, dtype: int64"
            ]
          },
          "execution_count": 34,
          "metadata": {},
          "output_type": "execute_result"
        }
      ],
      "source": [
        "df['Hour'].value_counts().sort_index(ascending=False)"
      ]
    },
    {
      "cell_type": "markdown",
      "metadata": {
        "id": "PQNvYdVtOmaj"
      },
      "source": [
        "------"
      ]
    },
    {
      "cell_type": "markdown",
      "metadata": {
        "id": "5X84M0SjOoHt"
      },
      "source": [
        "## Step 2: Data Cleaning and Preprocessing\n",
        "Assigned to: David/Zedan"
      ]
    },
    {
      "cell_type": "code",
      "execution_count": null,
      "metadata": {
        "id": "1ErL2mmgOzAq"
      },
      "outputs": [],
      "source": []
    },
    {
      "cell_type": "markdown",
      "metadata": {
        "id": "Cg1ZH--GOz7N"
      },
      "source": [
        "-----"
      ]
    },
    {
      "cell_type": "markdown",
      "metadata": {
        "id": "U6Pz8F7hO14h"
      },
      "source": [
        "## Step 3: Exploratory Data Analysis\n",
        "Assigned to: Amany/Rehab"
      ]
    },
    {
      "cell_type": "code",
      "execution_count": null,
      "metadata": {
        "id": "_Spvh1YzPCyr"
      },
      "outputs": [],
      "source": []
    },
    {
      "cell_type": "markdown",
      "metadata": {
        "id": "tZi90icCPZ3q"
      },
      "source": [
        "------"
      ]
    },
    {
      "cell_type": "markdown",
      "metadata": {
        "id": "gjL1QtzhPau9"
      },
      "source": [
        "## Step 4: Premodelling Phase"
      ]
    },
    {
      "cell_type": "code",
      "execution_count": null,
      "metadata": {
        "id": "SkCsaV6uPrXM"
      },
      "outputs": [],
      "source": []
    },
    {
      "cell_type": "markdown",
      "metadata": {
        "id": "EYRSSGmBPp1s"
      },
      "source": [
        "-------"
      ]
    },
    {
      "cell_type": "markdown",
      "metadata": {
        "id": "SR5VD_nFPhGg"
      },
      "source": [
        "## Step 5: Modelling"
      ]
    },
    {
      "cell_type": "code",
      "execution_count": null,
      "metadata": {
        "id": "Q-AjfNaDPr7u"
      },
      "outputs": [],
      "source": []
    },
    {
      "cell_type": "markdown",
      "metadata": {
        "id": "UsIR7NuTPtZB"
      },
      "source": [
        "-----"
      ]
    },
    {
      "cell_type": "markdown",
      "metadata": {
        "id": "8PpLqswVPvfn"
      },
      "source": [
        "## Conclusion"
      ]
    }
  ],
  "metadata": {
    "colab": {
      "provenance": []
    },
    "kernelspec": {
      "display_name": "Python 3",
      "name": "python3"
    },
    "language_info": {
      "codemirror_mode": {
        "name": "ipython",
        "version": 3
      },
      "file_extension": ".py",
      "mimetype": "text/x-python",
      "name": "python",
      "nbconvert_exporter": "python",
      "pygments_lexer": "ipython3",
      "version": "3.12.3"
    }
  },
  "nbformat": 4,
  "nbformat_minor": 0
}
