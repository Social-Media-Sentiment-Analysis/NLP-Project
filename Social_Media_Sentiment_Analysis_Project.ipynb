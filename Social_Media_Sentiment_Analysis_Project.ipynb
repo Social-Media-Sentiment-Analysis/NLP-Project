{
  "cells": [
    {
      "cell_type": "markdown",
      "metadata": {
        "id": "g9ytOHZFNvoI"
      },
      "source": [
        "# Social Media Sentiment Analysis Project\n",
        "-> Problem Statement (Final Step After Conclusion - Rehab Responsibility)\n",
        "\n",
        "---------------"
      ]
    },
    {
      "cell_type": "markdown",
      "metadata": {
        "id": "YnZtNYoiOH7Z"
      },
      "source": [
        "## Step 1: Reading and Understanding the data.\n",
        "Assigned to: Akayiz/Youstina"
      ]
    },
    {
      "cell_type": "code",
      "execution_count": null,
      "metadata": {
        "id": "62MpfcPXN--y"
      },
      "outputs": [],
      "source": []
    },
    {
      "cell_type": "markdown",
      "metadata": {
        "id": "PQNvYdVtOmaj"
      },
      "source": [
        "------"
      ]
    },
    {
      "cell_type": "markdown",
      "metadata": {
        "id": "5X84M0SjOoHt"
      },
      "source": [
        "## Step 2: Data Cleaning and Preprocessing\n",
        "Assigned to: David/Zedan"
      ]
    },
    {
      "cell_type": "code",
      "execution_count": null,
      "metadata": {
        "id": "1ErL2mmgOzAq"
      },
      "outputs": [],
      "source": []
    },
    {
      "cell_type": "markdown",
      "metadata": {
        "id": "Cg1ZH--GOz7N"
      },
      "source": [
        "-----"
      ]
    },
    {
      "cell_type": "markdown",
      "metadata": {
        "id": "U6Pz8F7hO14h"
      },
      "source": [
        "## Step 3: Exploratory Data Analysis\n",
        "Assigned to: Amany/Rehab"
      ]
    },
    {
      "cell_type": "code",
      "execution_count": null,
      "metadata": {
        "id": "_Spvh1YzPCyr"
      },
      "outputs": [],
      "source": []
    },
    {
      "cell_type": "markdown",
      "metadata": {
        "id": "tZi90icCPZ3q"
      },
      "source": [
        "------"
      ]
    },
    {
      "cell_type": "markdown",
      "metadata": {
        "id": "gjL1QtzhPau9"
      },
      "source": [
        "## Step 4: Premodelling Phase"
      ]
    },
    {
      "cell_type": "code",
      "execution_count": null,
      "metadata": {
        "id": "SkCsaV6uPrXM"
      },
      "outputs": [],
      "source": []
    },
    {
      "cell_type": "markdown",
      "metadata": {
        "id": "EYRSSGmBPp1s"
      },
      "source": [
        "-------"
      ]
    },
    {
      "cell_type": "markdown",
      "metadata": {
        "id": "SR5VD_nFPhGg"
      },
      "source": [
        "## Step 5: Modelling"
      ]
    },
    {
      "cell_type": "code",
      "execution_count": null,
      "metadata": {
        "id": "Q-AjfNaDPr7u"
      },
      "outputs": [],
      "source": []
    },
    {
      "cell_type": "markdown",
      "metadata": {
        "id": "UsIR7NuTPtZB"
      },
      "source": [
        "-----"
      ]
    },
    {
      "cell_type": "markdown",
      "metadata": {
        "id": "8PpLqswVPvfn"
      },
      "source": [
        "## Conclusion"
      ]
    }
  ],
  "metadata": {
    "colab": {
      "provenance": []
    },
    "kernelspec": {
      "display_name": "Python 3",
      "name": "python3"
    },
    "language_info": {
      "codemirror_mode": {
        "name": "ipython",
        "version": 3
      },
      "file_extension": ".py",
      "mimetype": "text/x-python",
      "name": "python",
      "nbconvert_exporter": "python",
      "pygments_lexer": "ipython3",
      "version": "3.11.3"
    }
  },
  "nbformat": 4,
  "nbformat_minor": 0
}
